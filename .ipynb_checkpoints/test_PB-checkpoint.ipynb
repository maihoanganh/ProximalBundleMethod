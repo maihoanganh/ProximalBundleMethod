{
 "cells": [
  {
   "cell_type": "code",
   "execution_count": 8,
   "metadata": {},
   "outputs": [
    {
     "name": "stderr",
     "output_type": "stream",
     "text": [
      "WARNING: replacing module ProximalBundleMethod.\n"
     ]
    },
    {
     "ename": "UndefVarError",
     "evalue": "UndefVarError: ProximalMethod not defined",
     "output_type": "error",
     "traceback": [
      "UndefVarError: ProximalMethod not defined",
      "",
      "Stacktrace:",
      " [1] top-level scope at In[8]:38"
     ]
    }
   ],
   "source": [
    "include(\"./src/ProximalBundleMethod.jl\")\n",
    "using .ProximalBundleMethod\n",
    "\n",
    "\"\"\"\n",
    "min f(x) x in R^n\n",
    "\n",
    "f is nonsmooth function\n",
    "g is a subgradient of f\n",
    "\"\"\"\n",
    "\n",
    "\n",
    "n=100\n",
    "\n",
    "function evaluate_f(x::Vector{Float64})\n",
    "\n",
    "  f = 0.0;\n",
    "  g=zeros(Float64,n)\n",
    "\n",
    "  for i=1:n-1\n",
    "    g[i+1] = 0.0;\n",
    "    a = -x[i]-x[i+1];\n",
    "    b = -x[i]-x[i+1]+(x[i]*x[i]+x[i+1]*x[i+1]-1.0);\n",
    "\n",
    "    if (a >= b)\n",
    "      f = f+a;\n",
    "      g[i] = g[i]-1.0;\n",
    "      g[i+1] = -1.0;\n",
    "    else\n",
    "      f = f+b;  \n",
    "      g[i] = g[i]-1.0+2.0*x[i];\n",
    "      g[i+1] = -1.0+2*x[i+1];\n",
    "    end\n",
    "  end\n",
    "    return f, g\n",
    "end\n",
    "\n",
    "tol=1e-5\n",
    "\n",
    "bundle = ProximalBundleMethod.Model{ProximalBundleMethod.ProximalMethod}(n, evaluate_f,tol)\n",
    "\n",
    "ProximalBundleMethod.runb(bundle)\n",
    "\n",
    "optsol=ProximalBundleMethod.getsolution(bundle)\n",
    "optval=ProximalBundleMethod.getobjectivevalue(bundle)"
   ]
  },
  {
   "cell_type": "code",
   "execution_count": null,
   "metadata": {},
   "outputs": [],
   "source": []
  }
 ],
 "metadata": {
  "kernelspec": {
   "display_name": "Julia 1.3.0",
   "language": "julia",
   "name": "julia-1.3"
  },
  "language_info": {
   "file_extension": ".jl",
   "mimetype": "application/julia",
   "name": "julia",
   "version": "1.3.0"
  }
 },
 "nbformat": 4,
 "nbformat_minor": 2
}
